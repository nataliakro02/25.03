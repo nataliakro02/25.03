{
  "nbformat": 4,
  "nbformat_minor": 0,
  "metadata": {
    "colab": {
      "provenance": [],
      "authorship_tag": "ABX9TyPyt2KuQgCpNkC9ZwTP/ida",
      "include_colab_link": true
    },
    "kernelspec": {
      "name": "python3",
      "display_name": "Python 3"
    },
    "language_info": {
      "name": "python"
    }
  },
  "cells": [
    {
      "cell_type": "markdown",
      "metadata": {
        "id": "view-in-github",
        "colab_type": "text"
      },
      "source": [
        "<a href=\"https://colab.research.google.com/github/nataliakro02/25.03/blob/main/NK_System_rekomendacyjny.ipynb\" target=\"_parent\"><img src=\"https://colab.research.google.com/assets/colab-badge.svg\" alt=\"Open In Colab\"/></a>"
      ]
    },
    {
      "cell_type": "code",
      "source": [
        "import pandas as pd"
      ],
      "metadata": {
        "id": "R74i88GMcQJl"
      },
      "execution_count": 7,
      "outputs": []
    },
    {
      "cell_type": "code",
      "source": [
        "!pip install numpy==1.23.5"
      ],
      "metadata": {
        "colab": {
          "base_uri": "https://localhost:8080/"
        },
        "id": "C8X9kBDmImsN",
        "outputId": "02d1882a-30f7-4d5d-c81d-ac3e72771d3e"
      },
      "execution_count": 1,
      "outputs": [
        {
          "output_type": "stream",
          "name": "stdout",
          "text": [
            "Requirement already satisfied: numpy==1.23.5 in /usr/local/lib/python3.11/dist-packages (1.23.5)\n"
          ]
        }
      ]
    },
    {
      "cell_type": "code",
      "source": [
        "!pip install scikit-surprise"
      ],
      "metadata": {
        "colab": {
          "base_uri": "https://localhost:8080/"
        },
        "id": "4a8OSYAWKhsV",
        "outputId": "25296665-a7c8-4f04-d2ce-1a727b949765"
      },
      "execution_count": 2,
      "outputs": [
        {
          "output_type": "stream",
          "name": "stdout",
          "text": [
            "Collecting scikit-surprise\n",
            "  Downloading scikit_surprise-1.1.4.tar.gz (154 kB)\n",
            "\u001b[?25l     \u001b[90m━━━━━━━━━━━━━━━━━━━━━━━━━━━━━━━━━━━━━━━━\u001b[0m \u001b[32m0.0/154.4 kB\u001b[0m \u001b[31m?\u001b[0m eta \u001b[36m-:--:--\u001b[0m\r\u001b[2K     \u001b[90m━━━━━━━━━━━━━━━━━━━━━━━━━━━━━━━━━━━━━━━\u001b[0m \u001b[32m154.4/154.4 kB\u001b[0m \u001b[31m4.5 MB/s\u001b[0m eta \u001b[36m0:00:00\u001b[0m\n",
            "\u001b[?25h  Installing build dependencies ... \u001b[?25l\u001b[?25hdone\n",
            "  Getting requirements to build wheel ... \u001b[?25l\u001b[?25hdone\n",
            "  Preparing metadata (pyproject.toml) ... \u001b[?25l\u001b[?25hdone\n",
            "Requirement already satisfied: joblib>=1.2.0 in /usr/local/lib/python3.11/dist-packages (from scikit-surprise) (1.5.0)\n",
            "Requirement already satisfied: numpy>=1.19.5 in /usr/local/lib/python3.11/dist-packages (from scikit-surprise) (1.23.5)\n",
            "Requirement already satisfied: scipy>=1.6.0 in /usr/local/lib/python3.11/dist-packages (from scikit-surprise) (1.15.3)\n",
            "Building wheels for collected packages: scikit-surprise\n",
            "  Building wheel for scikit-surprise (pyproject.toml) ... \u001b[?25l\u001b[?25hdone\n",
            "  Created wheel for scikit-surprise: filename=scikit_surprise-1.1.4-cp311-cp311-linux_x86_64.whl size=2461573 sha256=880d1d40bb8680d75cffed8a70a8d9f360464fd2717f1a9275b16f432ee78c78\n",
            "  Stored in directory: /root/.cache/pip/wheels/2a/8f/6e/7e2899163e2d85d8266daab4aa1cdabec7a6c56f83c015b5af\n",
            "Successfully built scikit-surprise\n",
            "Installing collected packages: scikit-surprise\n",
            "Successfully installed scikit-surprise-1.1.4\n"
          ]
        }
      ]
    },
    {
      "cell_type": "code",
      "source": [
        "import numpy as np\n",
        "from surprise import Dataset, Reader\n",
        "from surprise.model_selection import cross_validate, GridSearchCV\n",
        "from surprise.prediction_algorithms.matrix_factorization import SVD\n",
        "from surprise.prediction_algorithms.knns import KNNBasic, KNNBaseline"
      ],
      "metadata": {
        "id": "VI-nlNa0bvQl"
      },
      "execution_count": 3,
      "outputs": []
    },
    {
      "cell_type": "code",
      "source": [
        "movie = pd.read_csv('movies.csv')\n",
        "rate = pd.read_csv('ratings.csv')"
      ],
      "metadata": {
        "id": "VpBJmUurbaxw"
      },
      "execution_count": 17,
      "outputs": []
    },
    {
      "cell_type": "code",
      "source": [
        "min_rating = rate.rating.min()\n",
        "max_rating = rate.rating.max()\n",
        "\n",
        "reader = Reader(rating_scale=(min_rating, max_rating))\n",
        "data = Dataset.load_from_df(rate[['userId', 'movieId', 'rating']], reader)"
      ],
      "metadata": {
        "id": "94w5sT5cb6bd"
      },
      "execution_count": 11,
      "outputs": []
    },
    {
      "cell_type": "code",
      "source": [
        "df = SVD()\n",
        "cross_validate(df, data, measures=['RMSE', 'MAE'], cv=5, verbose=True)"
      ],
      "metadata": {
        "colab": {
          "base_uri": "https://localhost:8080/"
        },
        "id": "lLjVIKFWb9KQ",
        "outputId": "6c49bf53-3a94-4755-b4e9-9612f4e0d6af"
      },
      "execution_count": 15,
      "outputs": [
        {
          "output_type": "stream",
          "name": "stdout",
          "text": [
            "Evaluating RMSE, MAE of algorithm SVD on 5 split(s).\n",
            "\n",
            "                  Fold 1  Fold 2  Fold 3  Fold 4  Fold 5  Mean    Std     \n",
            "RMSE (testset)    0.8704  0.8795  0.8763  0.8746  0.8693  0.8740  0.0038  \n",
            "MAE (testset)     0.6708  0.6754  0.6725  0.6708  0.6685  0.6716  0.0023  \n",
            "Fit time          1.64    1.53    1.77    1.50    1.49    1.59    0.10    \n",
            "Test time         0.25    0.12    0.27    0.11    0.11    0.17    0.07    \n"
          ]
        },
        {
          "output_type": "execute_result",
          "data": {
            "text/plain": [
              "{'test_rmse': array([0.87035773, 0.87953268, 0.87630486, 0.87462607, 0.86933913]),\n",
              " 'test_mae': array([0.67076995, 0.67542148, 0.67253202, 0.67082236, 0.66845802]),\n",
              " 'fit_time': (1.640251636505127,\n",
              "  1.5343780517578125,\n",
              "  1.7668952941894531,\n",
              "  1.5014023780822754,\n",
              "  1.494462013244629),\n",
              " 'test_time': (0.24901700019836426,\n",
              "  0.11787223815917969,\n",
              "  0.27387356758117676,\n",
              "  0.1102900505065918,\n",
              "  0.11186552047729492)}"
            ]
          },
          "metadata": {},
          "execution_count": 15
        }
      ]
    },
    {
      "cell_type": "code",
      "source": [
        "trainset = data.build_full_trainset()\n",
        "df.fit(trainset)"
      ],
      "metadata": {
        "colab": {
          "base_uri": "https://localhost:8080/"
        },
        "id": "Fels6synb_w6",
        "outputId": "e9c5185d-6201-46f3-ed4d-950c26bfd37d"
      },
      "execution_count": 16,
      "outputs": [
        {
          "output_type": "execute_result",
          "data": {
            "text/plain": [
              "<surprise.prediction_algorithms.matrix_factorization.SVD at 0x7d3af69b08d0>"
            ]
          },
          "metadata": {},
          "execution_count": 16
        }
      ]
    },
    {
      "cell_type": "code",
      "source": [
        "wszystkie_filmy = set(movie['movieId'])\n",
        "ocenione_filmy = set(rate[rate['userId'] == 600]['movieId'])\n",
        "nieocenione_filmy = wszystkie_filmy - ocenione_filmy\n",
        "\n",
        "predictions = [ (movie_id, df.predict(600, movie_id).est) for movie_id in nieocenione_filmy]\n",
        "predictions.sort(key=lambda x: x[1], reverse=True)\n",
        "top_10 = predictions[:10]\n",
        "\n",
        "polecane_filmy = pd.DataFrame(top_10, columns=['movieId', 'predicted_rating'])\n",
        "polecane_filmy = polecane_filmy.merge(movie, on='movieId')\n",
        "print(polecane_filmy[['movieId', 'title', 'predicted_rating']])"
      ],
      "metadata": {
        "colab": {
          "base_uri": "https://localhost:8080/"
        },
        "id": "s7LUrfMFclWE",
        "outputId": "cbfb9f7e-b82c-4d3e-c74d-16613d532ff2"
      },
      "execution_count": 28,
      "outputs": [
        {
          "output_type": "stream",
          "name": "stdout",
          "text": [
            "   movieId                                              title  \\\n",
            "0    78499                                 Toy Story 3 (2010)   \n",
            "1     1279                              Night on Earth (1991)   \n",
            "2     1262                           Great Escape, The (1963)   \n",
            "3    66934              Dr. Horrible's Sing-Along Blog (2008)   \n",
            "4     1208                              Apocalypse Now (1979)   \n",
            "5      541                                Blade Runner (1982)   \n",
            "6      904                                 Rear Window (1954)   \n",
            "7      293  Léon: The Professional (a.k.a. The Professiona...   \n",
            "8     1221                     Godfather: Part II, The (1974)   \n",
            "9      908                          North by Northwest (1959)   \n",
            "\n",
            "   predicted_rating  \n",
            "0          4.428065  \n",
            "1          4.229044  \n",
            "2          4.227936  \n",
            "3          4.197031  \n",
            "4          4.192804  \n",
            "5          4.176596  \n",
            "6          4.155888  \n",
            "7          4.090675  \n",
            "8          4.088191  \n",
            "9          4.075100  \n"
          ]
        }
      ]
    }
  ]
}